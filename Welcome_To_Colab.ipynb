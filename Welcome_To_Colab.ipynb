{
  "cells": [
    {
      "cell_type": "code",
      "source": [
        "import pandas as pd"
      ],
      "metadata": {
        "id": "ooqYEADfoUCZ"
      },
      "execution_count": 22,
      "outputs": []
    },
    {
      "cell_type": "code",
      "source": [
        "data = {\n",
        "'EmployeeID': [1, 2, 3, 4, 5, 6, 7, 8, 9, 10, 11, 12, 13, 14, 15],\n",
        "'Name': ['alice', 'bob', 'charlie', 'david', 'eva', 'frank', 'grace', 'henry', 'Ivy', 'jack', 'karen', 'leo', 'mona', 'nina', 'oscar'],\n",
        "'Age': [45, 52, 37, 28, 41, 53, 32, 25, 48, 39, 29, 44, 33, 51, 36],\n",
        "'Department': ['HR', 'IT', 'Finance', 'Marketing', 'Sales', 'IT', 'Finance', 'HR', 'Sales', 'Marketing', 'IT', 'Finance', 'HR', 'Sales', 'Marketing'],\n",
        "'Salary': [54000, 78000, 66000, 72000, 85000, 90000, 62000, 40000, 94000, 70000, 65000, 86000, 47000, 88000, 56000]\n",
        "}"
      ],
      "metadata": {
        "id": "U0NvtzMarCR1"
      },
      "execution_count": 23,
      "outputs": []
    },
    {
      "cell_type": "code",
      "source": [
        "df = pd.DataFrame(data)"
      ],
      "metadata": {
        "id": "JM9VeXu1rHdV"
      },
      "execution_count": 24,
      "outputs": []
    },
    {
      "cell_type": "code",
      "source": [
        "print(df)"
      ],
      "metadata": {
        "colab": {
          "base_uri": "https://localhost:8080/"
        },
        "id": "liroGWzArKv3",
        "outputId": "71411d93-8496-40da-a60d-7afb108c874e"
      },
      "execution_count": 25,
      "outputs": [
        {
          "output_type": "stream",
          "name": "stdout",
          "text": [
            "    EmployeeID     Name  Age Department  Salary\n",
            "0            1    alice   45         HR   54000\n",
            "1            2      bob   52         IT   78000\n",
            "2            3  charlie   37    Finance   66000\n",
            "3            4    david   28  Marketing   72000\n",
            "4            5      eva   41      Sales   85000\n",
            "5            6    frank   53         IT   90000\n",
            "6            7    grace   32    Finance   62000\n",
            "7            8    henry   25         HR   40000\n",
            "8            9      Ivy   48      Sales   94000\n",
            "9           10     jack   39  Marketing   70000\n",
            "10          11    karen   29         IT   65000\n",
            "11          12      leo   44    Finance   86000\n",
            "12          13     mona   33         HR   47000\n",
            "13          14     nina   51      Sales   88000\n",
            "14          15    oscar   36  Marketing   56000\n"
          ]
        }
      ]
    },
    {
      "cell_type": "code",
      "source": [
        "average_salary = df['Salary'].mean()"
      ],
      "metadata": {
        "id": "caP1whRprKyh"
      },
      "execution_count": 26,
      "outputs": []
    },
    {
      "cell_type": "code",
      "source": [
        "print(average_salary)"
      ],
      "metadata": {
        "colab": {
          "base_uri": "https://localhost:8080/"
        },
        "id": "0yEuGLxJrK1o",
        "outputId": "326ea7b0-e5db-4935-95d4-dc7d810f2907"
      },
      "execution_count": 27,
      "outputs": [
        {
          "output_type": "stream",
          "name": "stdout",
          "text": [
            "70200.0\n"
          ]
        }
      ]
    },
    {
      "cell_type": "code",
      "source": [
        "median_salary = df['Salary'].median()\n"
      ],
      "metadata": {
        "id": "OZJcjAGhrK5B"
      },
      "execution_count": 28,
      "outputs": []
    },
    {
      "cell_type": "code",
      "source": [
        "print(median_salary)"
      ],
      "metadata": {
        "colab": {
          "base_uri": "https://localhost:8080/"
        },
        "id": "UWuiNyGHrwmw",
        "outputId": "bfefcb2b-62fc-428c-a827-1932ffcf7250"
      },
      "execution_count": 29,
      "outputs": [
        {
          "output_type": "stream",
          "name": "stdout",
          "text": [
            "70000.0\n"
          ]
        }
      ]
    },
    {
      "cell_type": "code",
      "source": [
        "std_dev_salary = df['Salary'].std()"
      ],
      "metadata": {
        "id": "us7CH_QCr0Y9"
      },
      "execution_count": 30,
      "outputs": []
    },
    {
      "cell_type": "code",
      "source": [
        "print(std_dev_salary)"
      ],
      "metadata": {
        "colab": {
          "base_uri": "https://localhost:8080/"
        },
        "id": "t5hP5Srzr3vQ",
        "outputId": "c19d27e7-01f7-49e7-895f-e0a3bc1de0a6"
      },
      "execution_count": 31,
      "outputs": [
        {
          "output_type": "stream",
          "name": "stdout",
          "text": [
            "16549.4928709527\n"
          ]
        }
      ]
    },
    {
      "cell_type": "code",
      "source": [
        "total_salary_expenditure = df['Salary'].sum()"
      ],
      "metadata": {
        "id": "WIKqc9jHr6lO"
      },
      "execution_count": 32,
      "outputs": []
    },
    {
      "cell_type": "code",
      "source": [
        "print(total_salary_expenditure)"
      ],
      "metadata": {
        "colab": {
          "base_uri": "https://localhost:8080/"
        },
        "id": "FBFu0mnir-Ef",
        "outputId": "a1ccc4dd-0c7a-4741-b624-c7b2d4903bc3"
      },
      "execution_count": 33,
      "outputs": [
        {
          "output_type": "stream",
          "name": "stdout",
          "text": [
            "1053000\n"
          ]
        }
      ]
    },
    {
      "cell_type": "code",
      "source": [
        "print(\"\\n Basic Statistics:\")"
      ],
      "metadata": {
        "colab": {
          "base_uri": "https://localhost:8080/"
        },
        "id": "2n2rZRdNsBGo",
        "outputId": "f83be4e5-b26d-4c1c-e6c7-f1b260b30543"
      },
      "execution_count": 34,
      "outputs": [
        {
          "output_type": "stream",
          "name": "stdout",
          "text": [
            "\n",
            " Basic Statistics:\n"
          ]
        }
      ]
    },
    {
      "cell_type": "code",
      "source": [
        "print(f\"Average Salary: ${average_salary}\")"
      ],
      "metadata": {
        "colab": {
          "base_uri": "https://localhost:8080/"
        },
        "id": "oJulC0f5sBMh",
        "outputId": "2261ccfe-1b48-4250-c3d7-e270d0de48f8"
      },
      "execution_count": 35,
      "outputs": [
        {
          "output_type": "stream",
          "name": "stdout",
          "text": [
            "Average Salary: $70200.0\n"
          ]
        }
      ]
    },
    {
      "cell_type": "code",
      "source": [
        "print(f\"Median Salary: ${median_salary}\")\n"
      ],
      "metadata": {
        "colab": {
          "base_uri": "https://localhost:8080/"
        },
        "id": "0191HBcOsGk0",
        "outputId": "d46c5072-f6f5-4838-d504-c9cc6171999c"
      },
      "execution_count": 36,
      "outputs": [
        {
          "output_type": "stream",
          "name": "stdout",
          "text": [
            "Median Salary: $70000.0\n"
          ]
        }
      ]
    },
    {
      "cell_type": "code",
      "source": [
        "print(f\"Standard Deviation of Salaries: ${std_dev_salary}\")\n"
      ],
      "metadata": {
        "colab": {
          "base_uri": "https://localhost:8080/"
        },
        "id": "5-nlZNi2sOaX",
        "outputId": "a40e970f-eb02-4669-d1ed-ef983e35b65b"
      },
      "execution_count": 37,
      "outputs": [
        {
          "output_type": "stream",
          "name": "stdout",
          "text": [
            "Standard Deviation of Salaries: $16549.4928709527\n"
          ]
        }
      ]
    },
    {
      "cell_type": "code",
      "source": [
        "print(f\"Total Salary Expenditure: ${total_salary_expenditure}\")\n"
      ],
      "metadata": {
        "colab": {
          "base_uri": "https://localhost:8080/"
        },
        "id": "Aq8TiNY2sQAP",
        "outputId": "dbdba232-a5c0-4059-d4f5-ea5797407a16"
      },
      "execution_count": 38,
      "outputs": [
        {
          "output_type": "stream",
          "name": "stdout",
          "text": [
            "Total Salary Expenditure: $1053000\n"
          ]
        }
      ]
    }
  ],
  "metadata": {
    "colab": {
      "name": "Welcome To Colab",
      "toc_visible": true,
      "provenance": []
    },
    "kernelspec": {
      "display_name": "Python 3",
      "name": "python3"
    }
  },
  "nbformat": 4,
  "nbformat_minor": 0
}